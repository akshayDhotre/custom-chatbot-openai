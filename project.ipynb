{
 "cells": [
  {
   "cell_type": "markdown",
   "id": "124e5672",
   "metadata": {},
   "source": [
    "# Custom Chatbot Project - Chat on fun facts about Indian Lok Sabha Election 2024"
   ]
  },
  {
   "cell_type": "markdown",
   "id": "2a4a94b3",
   "metadata": {},
   "source": [
    "I have chosen dataset containing information about 2024 Lok Sabha Elections held in India. The information is rewritten with reference from various news sources and put into a csv file for easy input. This is a latest information and with many upredictable facts so its difficult for model to find any similar information in its training data."
   ]
  },
  {
   "cell_type": "markdown",
   "id": "d3d0c4cd",
   "metadata": {},
   "source": [
    "#### Imports and variables for frequent use"
   ]
  },
  {
   "cell_type": "code",
   "execution_count": 153,
   "id": "8c7398be",
   "metadata": {},
   "outputs": [],
   "source": [
    "import openai\n",
    "import tiktoken\n",
    "import pandas as pd\n",
    "import requests\n",
    "from bs4 import BeautifulSoup\n",
    "import os\n",
    "from typing import Dict, List"
   ]
  },
  {
   "cell_type": "code",
   "execution_count": null,
   "id": "7177fa0a",
   "metadata": {},
   "outputs": [],
   "source": [
    "# Environment variables\n",
    "openai.api_key = 'OPEN_AI_API_KEY'\n",
    "\n",
    "# OpenAI Models\n",
    "EMBEDDING_MODEL = 'text-embedding-ada-002'\n",
    "COMPLETION_MODEL = 'gpt-3.5-turbo-instruct'\n",
    "\n",
    "# Batch size for processing\n",
    "BATCH_SIZE = 25\n",
    "\n",
    "# Embeddings file path\n",
    "CSV_FILEPATH_WITH_EMBEDDINGS = \"dataset_with_embeddings.csv\""
   ]
  },
  {
   "cell_type": "markdown",
   "id": "a63d4c5f",
   "metadata": {},
   "source": [
    "## Data Wrangling\n",
    "\n",
    "TODO: In the cells below, load your chosen dataset into a `pandas` dataframe with a column named `\"text\"`. This column should contain all of your text data, separated into at least 20 rows."
   ]
  },
  {
   "cell_type": "code",
   "execution_count": 155,
   "id": "acb3a9fd",
   "metadata": {},
   "outputs": [
    {
     "data": {
      "text/html": [
       "<div>\n",
       "<style scoped>\n",
       "    .dataframe tbody tr th:only-of-type {\n",
       "        vertical-align: middle;\n",
       "    }\n",
       "\n",
       "    .dataframe tbody tr th {\n",
       "        vertical-align: top;\n",
       "    }\n",
       "\n",
       "    .dataframe thead th {\n",
       "        text-align: right;\n",
       "    }\n",
       "</style>\n",
       "<table border=\"1\" class=\"dataframe\">\n",
       "  <thead>\n",
       "    <tr style=\"text-align: right;\">\n",
       "      <th></th>\n",
       "      <th>text</th>\n",
       "    </tr>\n",
       "    <tr>\n",
       "      <th>index</th>\n",
       "      <th></th>\n",
       "    </tr>\n",
       "  </thead>\n",
       "  <tbody>\n",
       "    <tr>\n",
       "      <th>1</th>\n",
       "      <td>After 20 years, Congress reclaimed the Allahab...</td>\n",
       "    </tr>\n",
       "    <tr>\n",
       "      <th>2</th>\n",
       "      <td>Samajwadi Party achieved its best Lok Sabha re...</td>\n",
       "    </tr>\n",
       "    <tr>\n",
       "      <th>3</th>\n",
       "      <td>BJP secured only 33 seats in Uttar Pradesh in ...</td>\n",
       "    </tr>\n",
       "    <tr>\n",
       "      <th>4</th>\n",
       "      <td>BJP's Lallu Singh lost the Faizabad seat to SP...</td>\n",
       "    </tr>\n",
       "    <tr>\n",
       "      <th>5</th>\n",
       "      <td>Congress won its first Gujarat Lok Sabha seat ...</td>\n",
       "    </tr>\n",
       "  </tbody>\n",
       "</table>\n",
       "</div>"
      ],
      "text/plain": [
       "                                                    text\n",
       "index                                                   \n",
       "1      After 20 years, Congress reclaimed the Allahab...\n",
       "2      Samajwadi Party achieved its best Lok Sabha re...\n",
       "3      BJP secured only 33 seats in Uttar Pradesh in ...\n",
       "4      BJP's Lallu Singh lost the Faizabad seat to SP...\n",
       "5      Congress won its first Gujarat Lok Sabha seat ..."
      ]
     },
     "execution_count": 155,
     "metadata": {},
     "output_type": "execute_result"
    }
   ],
   "source": [
    "# Read Election facts dataset\n",
    "df = pd.read_csv('toi_2024_election_facts.csv', encoding='utf-8', index_col=0)\n",
    "df.head()"
   ]
  },
  {
   "cell_type": "markdown",
   "id": "eddb7e6f",
   "metadata": {},
   "source": [
    "### Generate embeddings for dataset\n",
    "\n",
    "We'll use the `Embedding` tooling from OpenAI [documentation here](https://platform.openai.com/docs/guides/embeddings/embeddings) to create vectors representing each row of our custom dataset."
   ]
  },
  {
   "cell_type": "code",
   "execution_count": 177,
   "id": "5fbc15a6",
   "metadata": {},
   "outputs": [
    {
     "data": {
      "text/html": [
       "<div>\n",
       "<style scoped>\n",
       "    .dataframe tbody tr th:only-of-type {\n",
       "        vertical-align: middle;\n",
       "    }\n",
       "\n",
       "    .dataframe tbody tr th {\n",
       "        vertical-align: top;\n",
       "    }\n",
       "\n",
       "    .dataframe thead th {\n",
       "        text-align: right;\n",
       "    }\n",
       "</style>\n",
       "<table border=\"1\" class=\"dataframe\">\n",
       "  <thead>\n",
       "    <tr style=\"text-align: right;\">\n",
       "      <th></th>\n",
       "      <th>text</th>\n",
       "      <th>embeddings</th>\n",
       "    </tr>\n",
       "    <tr>\n",
       "      <th>index</th>\n",
       "      <th></th>\n",
       "      <th></th>\n",
       "    </tr>\n",
       "  </thead>\n",
       "  <tbody>\n",
       "    <tr>\n",
       "      <th>1</th>\n",
       "      <td>After 20 years, Congress reclaimed the Allahab...</td>\n",
       "      <td>[0.007014318369328976, -0.022495316341519356, ...</td>\n",
       "    </tr>\n",
       "    <tr>\n",
       "      <th>2</th>\n",
       "      <td>Samajwadi Party achieved its best Lok Sabha re...</td>\n",
       "      <td>[0.001216356409713626, 0.012867189943790436, 0...</td>\n",
       "    </tr>\n",
       "    <tr>\n",
       "      <th>3</th>\n",
       "      <td>BJP secured only 33 seats in Uttar Pradesh in ...</td>\n",
       "      <td>[-0.0010518135968595743, -0.012326016090810299...</td>\n",
       "    </tr>\n",
       "    <tr>\n",
       "      <th>4</th>\n",
       "      <td>BJP's Lallu Singh lost the Faizabad seat to SP...</td>\n",
       "      <td>[0.008040057495236397, 0.009712133556604385, 0...</td>\n",
       "    </tr>\n",
       "    <tr>\n",
       "      <th>5</th>\n",
       "      <td>Congress won its first Gujarat Lok Sabha seat ...</td>\n",
       "      <td>[-0.00889828521758318, -0.003393794409930706, ...</td>\n",
       "    </tr>\n",
       "  </tbody>\n",
       "</table>\n",
       "</div>"
      ],
      "text/plain": [
       "                                                    text  \\\n",
       "index                                                      \n",
       "1      After 20 years, Congress reclaimed the Allahab...   \n",
       "2      Samajwadi Party achieved its best Lok Sabha re...   \n",
       "3      BJP secured only 33 seats in Uttar Pradesh in ...   \n",
       "4      BJP's Lallu Singh lost the Faizabad seat to SP...   \n",
       "5      Congress won its first Gujarat Lok Sabha seat ...   \n",
       "\n",
       "                                              embeddings  \n",
       "index                                                     \n",
       "1      [0.007014318369328976, -0.022495316341519356, ...  \n",
       "2      [0.001216356409713626, 0.012867189943790436, 0...  \n",
       "3      [-0.0010518135968595743, -0.012326016090810299...  \n",
       "4      [0.008040057495236397, 0.009712133556604385, 0...  \n",
       "5      [-0.00889828521758318, -0.003393794409930706, ...  "
      ]
     },
     "execution_count": 177,
     "metadata": {},
     "output_type": "execute_result"
    }
   ],
   "source": [
    "embeddings = []\n",
    "for i in range(0, len(df), BATCH_SIZE):\n",
    "    # Send text data to OpenAI model to get embeddings\n",
    "    response = openai.Embedding.create(\n",
    "        input=df.iloc[i:i+BATCH_SIZE][\"text\"].tolist(),\n",
    "        engine=EMBEDDING_MODEL\n",
    "    )\n",
    "    \n",
    "    # Add embeddings to list\n",
    "    embeddings.extend([data[\"embedding\"] for data in response[\"data\"]])\n",
    "\n",
    "# Add embeddings list to dataframe\n",
    "df[\"embeddings\"] = embeddings\n",
    "df.head()"
   ]
  },
  {
   "cell_type": "code",
   "execution_count": 178,
   "id": "e318da99",
   "metadata": {},
   "outputs": [],
   "source": [
    "df.to_csv(CSV_FILEPATH_WITH_EMBEDDINGS, index=False)"
   ]
  },
  {
   "cell_type": "markdown",
   "id": "00d9d7fb",
   "metadata": {},
   "source": [
    "### Function to find relevent context from text dataset for answerig given question"
   ]
  },
  {
   "cell_type": "code",
   "execution_count": 179,
   "id": "28a4da69",
   "metadata": {},
   "outputs": [],
   "source": [
    "from openai.embeddings_utils import get_embedding, distances_from_embeddings\n",
    "\n",
    "def get_rows_sorted_by_relevance(question:str, df:pd.DataFrame) -> pd.DataFrame:\n",
    "    \"\"\"\n",
    "    Function that takes in a question string and a dataframe containing\n",
    "    rows of text and associated embeddings, and returns that dataframe\n",
    "    sorted from least to most relevant for that question\n",
    "    \"\"\"\n",
    "    \n",
    "    # Get embeddings for the question text\n",
    "    question_embeddings = get_embedding(question, engine=EMBEDDING_MODEL)\n",
    "    \n",
    "    # Make a copy of the dataframe and add a \"distances\" column containing\n",
    "    # the cosine distances between each row's embeddings and the\n",
    "    # embeddings of the question\n",
    "    df_copy = df.copy()\n",
    "    df_copy[\"distances\"] = distances_from_embeddings(\n",
    "        question_embeddings,\n",
    "        df_copy[\"embeddings\"].values,\n",
    "        distance_metric=\"cosine\"\n",
    "    )\n",
    "    \n",
    "    # Sort the copied dataframe by the distances and return it\n",
    "    # (shorter distance = more relevant so we sort in ascending order)\n",
    "    df_copy.sort_values(\"distances\", ascending=True, inplace=True)\n",
    "    return df_copy"
   ]
  },
  {
   "cell_type": "markdown",
   "id": "33d3adae",
   "metadata": {},
   "source": [
    "Test the function"
   ]
  },
  {
   "cell_type": "code",
   "execution_count": 180,
   "id": "3c057ee0",
   "metadata": {},
   "outputs": [
    {
     "data": {
      "text/html": [
       "<div>\n",
       "<style scoped>\n",
       "    .dataframe tbody tr th:only-of-type {\n",
       "        vertical-align: middle;\n",
       "    }\n",
       "\n",
       "    .dataframe tbody tr th {\n",
       "        vertical-align: top;\n",
       "    }\n",
       "\n",
       "    .dataframe thead th {\n",
       "        text-align: right;\n",
       "    }\n",
       "</style>\n",
       "<table border=\"1\" class=\"dataframe\">\n",
       "  <thead>\n",
       "    <tr style=\"text-align: right;\">\n",
       "      <th></th>\n",
       "      <th>text</th>\n",
       "      <th>embeddings</th>\n",
       "      <th>distances</th>\n",
       "    </tr>\n",
       "    <tr>\n",
       "      <th>index</th>\n",
       "      <th></th>\n",
       "      <th></th>\n",
       "      <th></th>\n",
       "    </tr>\n",
       "  </thead>\n",
       "  <tbody>\n",
       "    <tr>\n",
       "      <th>46</th>\n",
       "      <td>1.8 million VVPAT systems and 1.7 million cont...</td>\n",
       "      <td>[0.0013148181606084108, -0.014351684600114822,...</td>\n",
       "      <td>0.079102</td>\n",
       "    </tr>\n",
       "    <tr>\n",
       "      <th>18</th>\n",
       "      <td>Seven Independent candidates won in the 2024 L...</td>\n",
       "      <td>[0.007494308520108461, -0.003459648694843054, ...</td>\n",
       "      <td>0.175379</td>\n",
       "    </tr>\n",
       "    <tr>\n",
       "      <th>44</th>\n",
       "      <td>With 400 seats, BJP's 2024 performance was see...</td>\n",
       "      <td>[-0.019077735021710396, -0.005691202823072672,...</td>\n",
       "      <td>0.186646</td>\n",
       "    </tr>\n",
       "    <tr>\n",
       "      <th>47</th>\n",
       "      <td>Mysore Paints &amp; Varnish Ltd provided over 26 l...</td>\n",
       "      <td>[0.010591262020170689, -0.0018588538514450192,...</td>\n",
       "      <td>0.187923</td>\n",
       "    </tr>\n",
       "    <tr>\n",
       "      <th>42</th>\n",
       "      <td>BJP's best performance in Odisha was winning 2...</td>\n",
       "      <td>[-0.00121549260802567, -0.0015830229967832565,...</td>\n",
       "      <td>0.190139</td>\n",
       "    </tr>\n",
       "  </tbody>\n",
       "</table>\n",
       "</div>"
      ],
      "text/plain": [
       "                                                    text  \\\n",
       "index                                                      \n",
       "46     1.8 million VVPAT systems and 1.7 million cont...   \n",
       "18     Seven Independent candidates won in the 2024 L...   \n",
       "44     With 400 seats, BJP's 2024 performance was see...   \n",
       "47     Mysore Paints & Varnish Ltd provided over 26 l...   \n",
       "42     BJP's best performance in Odisha was winning 2...   \n",
       "\n",
       "                                              embeddings  distances  \n",
       "index                                                                \n",
       "46     [0.0013148181606084108, -0.014351684600114822,...   0.079102  \n",
       "18     [0.007494308520108461, -0.003459648694843054, ...   0.175379  \n",
       "44     [-0.019077735021710396, -0.005691202823072672,...   0.186646  \n",
       "47     [0.010591262020170689, -0.0018588538514450192,...   0.187923  \n",
       "42     [-0.00121549260802567, -0.0015830229967832565,...   0.190139  "
      ]
     },
     "execution_count": 180,
     "metadata": {},
     "output_type": "execute_result"
    }
   ],
   "source": [
    "relevant_rows_df = get_rows_sorted_by_relevance(\"How many VVPAT systems were deployed for 2024 elections?\", df)\n",
    "relevant_rows_df.head()"
   ]
  },
  {
   "cell_type": "markdown",
   "id": "ae769871",
   "metadata": {},
   "source": [
    "## Custom Query Completion\n",
    "\n",
    "TODO: In the cells below, compose a custom query using your chosen dataset and retrieve results from an OpenAI `Completion` model. You may copy and paste any useful code from the course materials."
   ]
  },
  {
   "cell_type": "markdown",
   "id": "b2fa8f58",
   "metadata": {},
   "source": [
    "### Functions to compose a text prompt"
   ]
  },
  {
   "cell_type": "code",
   "execution_count": 181,
   "id": "24fc695d",
   "metadata": {},
   "outputs": [],
   "source": [
    "# Create simple prompt without context\n",
    "def create_simple_prompt(question: str) -> str:\n",
    "    \"\"\"\n",
    "    Builds a simple prompt for asking a question.\n",
    "\n",
    "    Args:\n",
    "        question (str): The question to include in the prompt.\n",
    "\n",
    "    Returns:\n",
    "        List[Dict[str, str]]: A list containing a single message with the user role and the provided question.\n",
    "    \"\"\"\n",
    "    prompt_template = \"\"\"Question: {}\n",
    "    Answer:\n",
    "    \"\"\"\n",
    "    return prompt_template.format(question)"
   ]
  },
  {
   "cell_type": "code",
   "execution_count": 182,
   "id": "934c9a27",
   "metadata": {},
   "outputs": [],
   "source": [
    "# Create prompt with context for RAG\n",
    "def create_custom_prompt(question: str, df: pd.DataFrame, max_token_count:int) -> str:\n",
    "    \"\"\"\n",
    "    Given a question and a dataframe containing rows of text and their\n",
    "    embeddings, return a text prompt to send to a Completion model\n",
    "    \"\"\"\n",
    "    # Create a tokenizer that is designed to align with our embeddings\n",
    "    tokenizer = tiktoken.get_encoding(\"cl100k_base\")\n",
    "    \n",
    "    # Count the number of tokens in the prompt template and question\n",
    "    prompt_template = \"\"\"\n",
    "        Answer the question based on the context below, and if the question\n",
    "        can't be answered based on the context, say \"I don't know\"\n",
    "\n",
    "        Context: \n",
    "\n",
    "        {}\n",
    "\n",
    "        ---\n",
    "\n",
    "        Question: {}\n",
    "        Answer:\"\"\"\n",
    "    \n",
    "    current_token_count = len(tokenizer.encode(prompt_template)) + \\\n",
    "                            len(tokenizer.encode(question))\n",
    "    \n",
    "    context = []\n",
    "    for text in get_rows_sorted_by_relevance(question, df)[\"text\"].values:\n",
    "        \n",
    "        # Increase the counter based on the number of tokens in this row\n",
    "        text_token_count = len(tokenizer.encode(text))\n",
    "        current_token_count += text_token_count\n",
    "        \n",
    "        # Add the row of text to the list if we haven't exceeded the max\n",
    "        if current_token_count <= max_token_count:\n",
    "            context.append(text)\n",
    "        else:\n",
    "            break\n",
    "\n",
    "    return prompt_template.format(\"\\n\\n###\\n\\n\".join(context), question)"
   ]
  },
  {
   "cell_type": "markdown",
   "id": "ec1c4635",
   "metadata": {},
   "source": [
    "Test the function"
   ]
  },
  {
   "cell_type": "code",
   "execution_count": 183,
   "id": "a6dd730a",
   "metadata": {},
   "outputs": [
    {
     "data": {
      "text/plain": [
       "'Question: How many VVPAT systems were deployed for 2024 elections?\\n    Answer:\\n    '"
      ]
     },
     "execution_count": 183,
     "metadata": {},
     "output_type": "execute_result"
    }
   ],
   "source": [
    "create_simple_prompt(\"How many VVPAT systems were deployed for 2024 elections?\")"
   ]
  },
  {
   "cell_type": "code",
   "execution_count": 184,
   "id": "676c895f",
   "metadata": {},
   "outputs": [
    {
     "data": {
      "text/plain": [
       "'\\n        Answer the question based on the context below, and if the question\\n        can\\'t be answered based on the context, say \"I don\\'t know\"\\n\\n        Context: \\n\\n        1.8 million VVPAT systems and 1.7 million control units were used across 1.05 million polling stations in 2024.\\n\\n###\\n\\nSeven Independent candidates won in the 2024 Lok Sabha election.\\n\\n###\\n\\nWith 400 seats, BJP\\'s 2024 performance was seen as disappointing, but still impressive compared to pre-2014 contexts, similar to Congress\\'s 244 seats in 1989 under PVN Rao.\\n\\n        ---\\n\\n        Question: How many VVPAT systems were deployed for 2024 elections?\\n        Answer:'"
      ]
     },
     "execution_count": 184,
     "metadata": {},
     "output_type": "execute_result"
    }
   ],
   "source": [
    "create_custom_prompt(\"How many VVPAT systems were deployed for 2024 elections?\", df, 150)"
   ]
  },
  {
   "cell_type": "markdown",
   "id": "4a01103c",
   "metadata": {},
   "source": [
    "## Function that answers the question with completion model"
   ]
  },
  {
   "cell_type": "code",
   "execution_count": 185,
   "id": "e4d955fc",
   "metadata": {},
   "outputs": [],
   "source": [
    "def answer_question(prompt:str, max_answer_tokens:int=150) -> str:\n",
    "    \"\"\"\n",
    "    Given a prompt a maximum number of desired tokens in the prompt and response, return the\n",
    "    answer to the question according to an OpenAI Completion model\n",
    "    \n",
    "    If the model produces an error, return an empty string\n",
    "    \"\"\"\n",
    "        \n",
    "    try:\n",
    "        response = openai.Completion.create(\n",
    "            model=COMPLETION_MODEL,\n",
    "            prompt=prompt,\n",
    "            max_tokens=max_answer_tokens\n",
    "        )\n",
    "        return response[\"choices\"][0][\"text\"].strip()\n",
    "    except Exception as e:\n",
    "        print(e)\n",
    "        return \"\""
   ]
  },
  {
   "cell_type": "markdown",
   "id": "1783f146",
   "metadata": {},
   "source": [
    "## Custom Performance Demonstration\n",
    "\n",
    "TODO: In the cells below, demonstrate the performance of your custom query using at least 2 questions. For each question, show the answer from a basic `Completion` model query as well as the answer from your custom query."
   ]
  },
  {
   "cell_type": "code",
   "execution_count": 198,
   "id": "2ae0a835",
   "metadata": {},
   "outputs": [],
   "source": [
    "# Load embeddnigs file to avoid calling the API repetedly\n",
    "# Read the DataFrame from CSV file\n",
    "df = pd.read_csv(CSV_FILEPATH_WITH_EMBEDDINGS)\n",
    "df['embeddings'] = df['embeddings'].apply(lambda value: [float(dim) for dim in value.replace('[', '').replace(']', '').split(',')])"
   ]
  },
  {
   "cell_type": "markdown",
   "id": "4f11fdc0",
   "metadata": {},
   "source": [
    "### Question 1"
   ]
  },
  {
   "cell_type": "code",
   "execution_count": 199,
   "id": "4901c850",
   "metadata": {},
   "outputs": [],
   "source": [
    "question_string = \"How many seats did BJP win during 2024 lok sabha elections in Uttar Pradesh?\"\n",
    "question_1_simple_prompt = create_simple_prompt(question=question_string)\n",
    "question_1_custom_prompt = create_custom_prompt(question=question_string, df=df, max_token_count=1800)"
   ]
  },
  {
   "cell_type": "code",
   "execution_count": 200,
   "id": "bd7a093b",
   "metadata": {},
   "outputs": [
    {
     "name": "stdout",
     "output_type": "stream",
     "text": [
      "Question: How many seats did BJP win during 2024 lok sabha elections in Uttar Pradesh?\n",
      "Answer without context: As a language AI, I cannot predict future events and outcomes. The 2024 lok sabha elections have not taken place yet, so the results are not available. It is best to wait until the elections take place to find out the number of seats won by BJP in Uttar Pradesh.\n",
      "Answer with context: 33\n"
     ]
    }
   ],
   "source": [
    "print(f'Question: {question_string}')\n",
    "print(f'Answer without context: {answer_question(question_1_simple_prompt)}')\n",
    "print(f'Answer with context: {answer_question(question_1_custom_prompt)}')"
   ]
  },
  {
   "cell_type": "markdown",
   "id": "6e86e37c",
   "metadata": {},
   "source": [
    "### Question 2"
   ]
  },
  {
   "cell_type": "code",
   "execution_count": 201,
   "id": "6f646989",
   "metadata": {},
   "outputs": [],
   "source": [
    "question_string = \"How many seats did NDA win in Maharashtra during 2024 lok sabha elections?\"\n",
    "question_2_simple_prompt = create_simple_prompt(question=question_string)\n",
    "question_2_custom_prompt = create_custom_prompt(question=question_string, df=df, max_token_count=1800)"
   ]
  },
  {
   "cell_type": "code",
   "execution_count": 202,
   "id": "11c07a54",
   "metadata": {},
   "outputs": [
    {
     "name": "stdout",
     "output_type": "stream",
     "text": [
      "Question: How many seats did NDA win in Maharashtra during 2024 lok sabha elections?\n",
      "Answer without context: As it is currently 2021, the 2024 Lok Sabha elections have not yet taken place. Therefore, it is not possible to accurately state how many seats the NDA (National Democratic Alliance) will win in Maharashtra during the 2024 Lok Sabha elections. The results of the elections are determined by the voting decisions of the citizens of Maharashtra and can only be known after the elections have taken place.\n",
      "Answer with context: NDA (including Shiv Sena and NCP) won only 17 seats.\n"
     ]
    }
   ],
   "source": [
    "print(f'Question: {question_string}')\n",
    "print(f'Answer without context: {answer_question(question_2_simple_prompt)}')\n",
    "print(f'Answer with context: {answer_question(question_2_custom_prompt)}')"
   ]
  },
  {
   "cell_type": "markdown",
   "id": "be20a8f5",
   "metadata": {},
   "source": [
    "### Question 3"
   ]
  },
  {
   "cell_type": "code",
   "execution_count": 203,
   "id": "83b4428c",
   "metadata": {},
   "outputs": [],
   "source": [
    "question_string = \"How many VVPAT systems were deployed for 2024 elections?\"\n",
    "question_3_simple_prompt = create_simple_prompt(question=question_string)\n",
    "question_3_custom_prompt = create_custom_prompt(question=question_string, df=df, max_token_count=1800)"
   ]
  },
  {
   "cell_type": "code",
   "execution_count": 204,
   "id": "f585edd2",
   "metadata": {},
   "outputs": [
    {
     "name": "stdout",
     "output_type": "stream",
     "text": [
      "Question: How many VVPAT systems were deployed for 2024 elections?\n",
      "Answer without context: It is currently unclear how many VVPAT (Voter Verified Paper Audit Trail) systems will be deployed for the 2024 elections. The number will depend on various factors, including the decisions of election officials and the availability of funding and resources. Some areas may have a high concentration of VVPAT systems, while others may not have any at all. Therefore, an exact number cannot be determined at this time.\n",
      "Answer with context: 1.8 million\n"
     ]
    }
   ],
   "source": [
    "print(f'Question: {question_string}')\n",
    "print(f'Answer without context: {answer_question(question_3_simple_prompt)}')\n",
    "print(f'Answer with context: {answer_question(question_3_custom_prompt)}')"
   ]
  },
  {
   "cell_type": "markdown",
   "id": "bd098711",
   "metadata": {},
   "source": [
    "### Question 4"
   ]
  },
  {
   "cell_type": "code",
   "execution_count": 208,
   "id": "a4b515a2",
   "metadata": {},
   "outputs": [],
   "source": [
    "question_string = \"Can you summarize results for Indian Lok Sabha Elections duting 2024, in 3 sentences?\"\n",
    "question_4_simple_prompt = create_simple_prompt(question=question_string)\n",
    "question_4_custom_prompt = create_custom_prompt(question=question_string, df=df, max_token_count=1800)"
   ]
  },
  {
   "cell_type": "code",
   "execution_count": 209,
   "id": "79a73fe0",
   "metadata": {},
   "outputs": [
    {
     "name": "stdout",
     "output_type": "stream",
     "text": [
      "Question: Can you summarize results for Indian Lok Sabha Elections duting 2024, in 3 sentences?\n",
      "Answer without context: As per the results of the 2024 Indian Lok Sabha Elections, the Bharatiya Janata Party (BJP) emerged as the frontrunner with a majority of seats, securing a second consecutive term for Prime Minister Narendra Modi. The opposition alliance, led by the Indian National Congress (INC), saw a decline in its number of seats compared to the previous election. Overall, the BJP-led National Democratic Alliance (NDA) secured a comfortable majority, paving the way for the continued leadership of PM Modi.\n",
      "Answer with context: BJP was the largest majority by far, indonesia was 2nd in number with 400 seats won, INDIA Bloc performed well in states and Trinamool congress had a good show as well (29 seats).\n"
     ]
    }
   ],
   "source": [
    "print(f'Question: {question_string}')\n",
    "print(f'Answer without context: {answer_question(question_4_simple_prompt)}')\n",
    "print(f'Answer with context: {answer_question(question_4_custom_prompt)}')"
   ]
  },
  {
   "cell_type": "markdown",
   "id": "53c5d5f7",
   "metadata": {},
   "source": [
    "## Conclusion"
   ]
  },
  {
   "cell_type": "markdown",
   "id": "904b93bb",
   "metadata": {},
   "source": [
    "As we can see that the dataset with context is a very latest information and\n",
    " from answers without context either mention hallucinated information or refues to answer.\n",
    "\n",
    "After providing proper context with RAG, model is able to pin point the information and gives correct response as per given context.\n",
    "\n",
    "Also an intresting observation is that upon asking to summarize event with given context the model is produced some\n",
    "wrong information as the project design optimizes for factual questions instead of summarization type questions. "
   ]
  },
  {
   "cell_type": "markdown",
   "id": "47854547",
   "metadata": {},
   "source": []
  },
  {
   "cell_type": "markdown",
   "id": "178e95a8",
   "metadata": {},
   "source": []
  }
 ],
 "metadata": {
  "kernelspec": {
   "display_name": "Python 3 (ipykernel)",
   "language": "python",
   "name": "python3"
  },
  "language_info": {
   "codemirror_mode": {
    "name": "ipython",
    "version": 3
   },
   "file_extension": ".py",
   "mimetype": "text/x-python",
   "name": "python",
   "nbconvert_exporter": "python",
   "pygments_lexer": "ipython3",
   "version": "3.9.19"
  }
 },
 "nbformat": 4,
 "nbformat_minor": 5
}
